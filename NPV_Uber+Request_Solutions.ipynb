{
 "cells": [
  {
   "cell_type": "markdown",
   "metadata": {
    "id": "16EWM7tMnF8M"
   },
   "source": [
    "<span style=\"font-family: Arial; font-weight:bold;font-size:1.5em;color:#0ab6fa\">Problem Statement:-"
   ]
  },
  {
   "cell_type": "markdown",
   "metadata": {
    "id": "kW0VSRTRnF8M"
   },
   "source": [
    "This Uber datset. The aim of analysis is to identify the root cause of the problem (i.e. cancellation and non-availability of cars) and recommend ways to improve the situation.\n",
    "\n",
    "Data Cleaning and Preparation - Hints\n",
    "\n",
    "Identify the data quality issues and clean the data so that you can use it for analysis. Ensure that the dates and time are in the proper format. Derive new variables which will be useful for analysis.\n",
    "\n",
    "\n"
   ]
  },
  {
   "cell_type": "markdown",
   "metadata": {
    "id": "RNDQ_4IKnF8M"
   },
   "source": [
    "<span style=\"font-family: Arial; font-weight:bold;font-size:1.5em;color:#0ab6fa\">Data Definition:-"
   ]
  },
  {
   "cell_type": "markdown",
   "metadata": {
    "id": "M3FiaQ9JnF8M"
   },
   "source": [
    "\n",
    "\n",
    "There are six attributes associated with each request made by a customer:\n",
    "\n",
    "\n",
    "\n",
    "| Column Name|Description|\n",
    "|-------------------|------------|\n",
    "|Request id|A unique identifier of the request|\n",
    "|Time of request|The date and time at which the customer made the trip request|\n",
    "| Drop-off time|The drop-off date and time, in case the trip was completed| \n",
    "|Pick-up point|The point from which the request was made|\n",
    "|Driver id|The unique identification number of the driver.|\n",
    "|Status of the request|The final status of the trip, that can be either completed, cancelled by the driver or no cars available.|\n"
   ]
  },
  {
   "cell_type": "markdown",
   "metadata": {
    "id": "QlhkfnM2nF8M"
   },
   "source": [
    "### * Students need to solve the below questions"
   ]
  },
  {
   "cell_type": "markdown",
   "metadata": {
    "id": "CvkcfOWlnF8M"
   },
   "source": [
    " <span style=\"font-family: Arial; font-weight:bold;font-size:1.5em;color:#0ab6fa\">1. Data analysis"
   ]
  },
  {
   "cell_type": "markdown",
   "metadata": {
    "id": "UVFFn2TGnF8M"
   },
   "source": [
    "##### A. load the data into dataframe and print the first five rows\n",
    "\n",
    "##### B. Print the dataframe information to check data type and null values in each column.\n",
    "\n",
    "##### C. Fetch the first row from the 4th column of the data set.\n",
    "\n",
    "##### D. Fetch the first, second and third columns of the  data frame\n",
    "\n",
    "##### E. Fetch the first, second, eighth and the 706th rows of the 1st, 3rd and the 6th columns of the data frame\n",
    "\n",
    "##### F. Create a small dataframe to identify the number of drivers and average trip they complete daily.\n",
    "\n",
    "##### G. On average how many request each driver gets?\n"
   ]
  },
  {
   "cell_type": "markdown",
   "metadata": {
    "id": "gXQxz7MQnF8M"
   },
   "source": [
    " <span style=\"font-family: Arial; font-weight:bold;font-size:1.5em;color:#0ab6fa\">2. Depth  Data Analysis"
   ]
  },
  {
   "cell_type": "markdown",
   "metadata": {
    "id": "oW-ewAS1nF8M"
   },
   "source": [
    "##### A. Format the date on `request timestamp` and `drop timestamp` columns\n",
    "\n",
    "##### B. Create a derived metrics from `timestamp` columns and print the top few rows out of it.\n",
    "\n",
    "   Step1: Using `Request timestamp` columns create new columns called [Request Date,Request Time,Request Weekday,Request Hour] \n",
    "    \n",
    "   Step2: Using  `Drop timestamp` columns create new columns called [Drop Date,Drop Time] \n",
    "\n",
    "##### C. Group the data by `status` and count the number of `request ids` for each `status type`.\n",
    "\n",
    "##### D. Find the range between `Request Date`.\n",
    "\n",
    "##### E. Print all unique dates\n",
    "\n",
    "##### F . Group by `driver id` and `status type` and print the top 10 rows.\n",
    "\n",
    "##### G. Filter the dataframe for which trip is either cancelled or no cab was available.\n",
    "\n",
    "##### H. Filter the  dataframe for which trip was completed. Group by status type to check the count.\n",
    "\n",
    "##### I. Group by `status` to check total count of trip completed and cancelled?"
   ]
  },
  {
   "cell_type": "markdown",
   "metadata": {
    "id": "7vR86Hy_nF8N"
   },
   "source": [
    " <span style=\"font-family: Arial; font-weight:bold;font-size:1.5em;color:#0ab6fa\">3. Visualisation"
   ]
  },
  {
   "cell_type": "markdown",
   "metadata": {
    "id": "flFZ_s93nF8N"
   },
   "source": [
    "##### A. Display the distribution plot using the column Request Hour\n",
    "\n",
    "##### B. Display the box plot using the column Request Hour and Pickup point\n",
    "\n",
    "##### C. Display the heatmap\n",
    "\n",
    "##### D.Plot suitable graph for `Status` and `Pickup point`. Write your observation.\n",
    "\n",
    "##### E. Plot suitable graph from the data to show demand supply gap\n",
    "\n",
    "  Step1: The graph needs to show\n",
    "\n",
    "  1st line for `Demand` = groupby['Request Hour']).count()['Request id']\n",
    "\n",
    "  2nd line for `Supply` = groupby['Status']==\"Trip Completed\"]['Request Hour']).count()['Request id']\n",
    "\n",
    "  3rd line for `gap` = groupby['Request Hour']).count()['Request id'] - ['Status']==\"Trip Completed\"].groupby['Status']==\"Trip Completed\"]['Request Hour']).count()['Request id'])\n",
    "\n",
    "   title = \"Demand Supply Gap\"\n",
    "                                \n",
    "##### F. Plot the suitable graph from the data to show hourly distribution of request.\n",
    "\n",
    "##### G. Plot the suitable graph from the data to get the count of status for `airport to city` and `city to airport` trips using subplots.\n"
   ]
  },
  {
   "cell_type": "markdown",
   "metadata": {
    "id": "jLcluLY5nF8N"
   },
   "source": [
    "<span style=\"font-family: Arial; font-weight:bold;font-size:1.5em;color:#0ab6fa\">Import libraries "
   ]
  },
  {
   "cell_type": "code",
   "execution_count": 2,
   "metadata": {
    "id": "jpEgZxtmnF8N"
   },
   "outputs": [],
   "source": [
    "# importing libraries\n",
    "import numpy as np\n",
    "import datetime as dt\n",
    "import pandas as pd\n",
    "import matplotlib.pyplot as plt\n",
    "import seaborn as sns\n",
    "%matplotlib inline"
   ]
  },
  {
   "cell_type": "markdown",
   "metadata": {
    "id": "9Lg8xGqonF8N"
   },
   "source": [
    " <span style=\"font-family: Arial; font-weight:bold;font-size:1.5em;color:#0ab6fa\">1. Basic Data Analysis"
   ]
  },
  {
   "cell_type": "markdown",
   "metadata": {
    "id": "wMcKHK-LnF8N"
   },
   "source": [
    "##### A. load the data into dataframe and print the first five rows\n",
    "\n",
    "##### B. Print the dataframe information to check data type and null values in each column.\n",
    "\n",
    "##### C. Fetch the first row from the 4th column of the data set.\n",
    "\n",
    "##### D. Fetch the first, second and third columns of the  data frame\n",
    "\n",
    "##### E. Fetch the first, second, eighth and the 706th rows of the 1st, 3rd and the 6th columns of the data frame\n",
    "\n",
    "##### F. Create a small dataframe to identify the number of drivers and average trip they complete daily.\n",
    "\n",
    "##### G. On average how many request each driver gets?\n"
   ]
  },
  {
   "cell_type": "markdown",
   "metadata": {
    "id": "06dIF8J6nF8N"
   },
   "source": [
    "### A. load the data into dataframe and print the first five rows"
   ]
  },
  {
   "cell_type": "code",
   "execution_count": 4,
   "metadata": {
    "id": "ImkZgnaKnF8N",
    "outputId": "afc8f930-a9e5-48bd-e712-94992d6f8651"
   },
   "outputs": [
    {
     "data": {
      "text/html": [
       "<div>\n",
       "<style scoped>\n",
       "    .dataframe tbody tr th:only-of-type {\n",
       "        vertical-align: middle;\n",
       "    }\n",
       "\n",
       "    .dataframe tbody tr th {\n",
       "        vertical-align: top;\n",
       "    }\n",
       "\n",
       "    .dataframe thead th {\n",
       "        text-align: right;\n",
       "    }\n",
       "</style>\n",
       "<table border=\"1\" class=\"dataframe\">\n",
       "  <thead>\n",
       "    <tr style=\"text-align: right;\">\n",
       "      <th></th>\n",
       "      <th>Request id</th>\n",
       "      <th>Pickup point</th>\n",
       "      <th>Driver id</th>\n",
       "      <th>Status</th>\n",
       "      <th>Request timestamp</th>\n",
       "      <th>Drop timestamp</th>\n",
       "    </tr>\n",
       "  </thead>\n",
       "  <tbody>\n",
       "    <tr>\n",
       "      <th>0</th>\n",
       "      <td>619</td>\n",
       "      <td>Airport</td>\n",
       "      <td>1.0</td>\n",
       "      <td>Trip Completed</td>\n",
       "      <td>11/7/2016 11:51</td>\n",
       "      <td>11/7/2016 13:00</td>\n",
       "    </tr>\n",
       "    <tr>\n",
       "      <th>1</th>\n",
       "      <td>867</td>\n",
       "      <td>Airport</td>\n",
       "      <td>1.0</td>\n",
       "      <td>Trip Completed</td>\n",
       "      <td>11/7/2016 17:57</td>\n",
       "      <td>11/7/2016 18:47</td>\n",
       "    </tr>\n",
       "    <tr>\n",
       "      <th>2</th>\n",
       "      <td>1807</td>\n",
       "      <td>City</td>\n",
       "      <td>1.0</td>\n",
       "      <td>Trip Completed</td>\n",
       "      <td>12/7/2016 9:17</td>\n",
       "      <td>12/7/2016 9:58</td>\n",
       "    </tr>\n",
       "    <tr>\n",
       "      <th>3</th>\n",
       "      <td>2532</td>\n",
       "      <td>Airport</td>\n",
       "      <td>1.0</td>\n",
       "      <td>Trip Completed</td>\n",
       "      <td>12/7/2016 21:08</td>\n",
       "      <td>12/7/2016 22:03</td>\n",
       "    </tr>\n",
       "    <tr>\n",
       "      <th>4</th>\n",
       "      <td>3112</td>\n",
       "      <td>City</td>\n",
       "      <td>1.0</td>\n",
       "      <td>Trip Completed</td>\n",
       "      <td>13-07-2016 08:33:16</td>\n",
       "      <td>13-07-2016 09:25:47</td>\n",
       "    </tr>\n",
       "  </tbody>\n",
       "</table>\n",
       "</div>"
      ],
      "text/plain": [
       "   Request id Pickup point  Driver id          Status    Request timestamp  \\\n",
       "0         619      Airport        1.0  Trip Completed      11/7/2016 11:51   \n",
       "1         867      Airport        1.0  Trip Completed      11/7/2016 17:57   \n",
       "2        1807         City        1.0  Trip Completed       12/7/2016 9:17   \n",
       "3        2532      Airport        1.0  Trip Completed      12/7/2016 21:08   \n",
       "4        3112         City        1.0  Trip Completed  13-07-2016 08:33:16   \n",
       "\n",
       "        Drop timestamp  \n",
       "0      11/7/2016 13:00  \n",
       "1      11/7/2016 18:47  \n",
       "2       12/7/2016 9:58  \n",
       "3      12/7/2016 22:03  \n",
       "4  13-07-2016 09:25:47  "
      ]
     },
     "execution_count": 4,
     "metadata": {},
     "output_type": "execute_result"
    }
   ],
   "source": [
    "uber_data = pd.read_csv(\"Uber+Request+Data.csv\")\n",
    "uber_data.head()"
   ]
  },
  {
   "cell_type": "code",
   "execution_count": null,
   "metadata": {},
   "outputs": [],
   "source": []
  },
  {
   "cell_type": "code",
   "execution_count": 24,
   "metadata": {},
   "outputs": [
    {
     "data": {
      "text/plain": [
       "300"
      ]
     },
     "execution_count": 24,
     "metadata": {},
     "output_type": "execute_result"
    }
   ],
   "source": [
    "uber_data['Driver id'].nunique()"
   ]
  },
  {
   "cell_type": "markdown",
   "metadata": {
    "id": "LqK25TUGnF8O"
   },
   "source": [
    "### B. Print the dataframe information to check data type and null values in each column"
   ]
  },
  {
   "cell_type": "code",
   "execution_count": 4,
   "metadata": {
    "id": "fAOCk_g2nF8O",
    "outputId": "171eecd5-07f0-45cb-dc7c-212dad293061"
   },
   "outputs": [
    {
     "name": "stdout",
     "output_type": "stream",
     "text": [
      "<class 'pandas.core.frame.DataFrame'>\n",
      "RangeIndex: 6745 entries, 0 to 6744\n",
      "Data columns (total 6 columns):\n",
      " #   Column             Non-Null Count  Dtype  \n",
      "---  ------             --------------  -----  \n",
      " 0   Request id         6745 non-null   int64  \n",
      " 1   Pickup point       6745 non-null   object \n",
      " 2   Driver id          4095 non-null   float64\n",
      " 3   Status             6745 non-null   object \n",
      " 4   Request timestamp  6745 non-null   object \n",
      " 5   Drop timestamp     2831 non-null   object \n",
      "dtypes: float64(1), int64(1), object(4)\n",
      "memory usage: 316.3+ KB\n"
     ]
    }
   ],
   "source": [
    "uber_data.info()"
   ]
  },
  {
   "cell_type": "markdown",
   "metadata": {
    "id": "daHcqMybnF8O"
   },
   "source": [
    "### C. Fetch the first row from the 4th column of the data set."
   ]
  },
  {
   "cell_type": "code",
   "execution_count": 5,
   "metadata": {
    "id": "IjA3qJHonF8O",
    "outputId": "3fd31ae8-3328-4312-8f34-7a1a4933fbe8"
   },
   "outputs": [
    {
     "data": {
      "text/plain": [
       "'Trip Completed'"
      ]
     },
     "execution_count": 5,
     "metadata": {},
     "output_type": "execute_result"
    }
   ],
   "source": [
    "uber_data.iloc[0,3]"
   ]
  },
  {
   "cell_type": "markdown",
   "metadata": {
    "id": "jGp1x8YmnF8O"
   },
   "source": [
    "### D. Fetch the first, second and third columns of the data frame."
   ]
  },
  {
   "cell_type": "code",
   "execution_count": 6,
   "metadata": {
    "id": "oqmzpOW1nF8O",
    "outputId": "341b53e3-139b-4bf8-c1db-757f2d025f90"
   },
   "outputs": [
    {
     "data": {
      "text/html": [
       "<div>\n",
       "<style scoped>\n",
       "    .dataframe tbody tr th:only-of-type {\n",
       "        vertical-align: middle;\n",
       "    }\n",
       "\n",
       "    .dataframe tbody tr th {\n",
       "        vertical-align: top;\n",
       "    }\n",
       "\n",
       "    .dataframe thead th {\n",
       "        text-align: right;\n",
       "    }\n",
       "</style>\n",
       "<table border=\"1\" class=\"dataframe\">\n",
       "  <thead>\n",
       "    <tr style=\"text-align: right;\">\n",
       "      <th></th>\n",
       "      <th>Request id</th>\n",
       "      <th>Pickup point</th>\n",
       "      <th>Driver id</th>\n",
       "    </tr>\n",
       "  </thead>\n",
       "  <tbody>\n",
       "    <tr>\n",
       "      <th>0</th>\n",
       "      <td>619</td>\n",
       "      <td>Airport</td>\n",
       "      <td>1.0</td>\n",
       "    </tr>\n",
       "    <tr>\n",
       "      <th>1</th>\n",
       "      <td>867</td>\n",
       "      <td>Airport</td>\n",
       "      <td>1.0</td>\n",
       "    </tr>\n",
       "    <tr>\n",
       "      <th>2</th>\n",
       "      <td>1807</td>\n",
       "      <td>City</td>\n",
       "      <td>1.0</td>\n",
       "    </tr>\n",
       "    <tr>\n",
       "      <th>3</th>\n",
       "      <td>2532</td>\n",
       "      <td>Airport</td>\n",
       "      <td>1.0</td>\n",
       "    </tr>\n",
       "    <tr>\n",
       "      <th>4</th>\n",
       "      <td>3112</td>\n",
       "      <td>City</td>\n",
       "      <td>1.0</td>\n",
       "    </tr>\n",
       "    <tr>\n",
       "      <th>...</th>\n",
       "      <td>...</td>\n",
       "      <td>...</td>\n",
       "      <td>...</td>\n",
       "    </tr>\n",
       "    <tr>\n",
       "      <th>6740</th>\n",
       "      <td>6745</td>\n",
       "      <td>City</td>\n",
       "      <td>NaN</td>\n",
       "    </tr>\n",
       "    <tr>\n",
       "      <th>6741</th>\n",
       "      <td>6752</td>\n",
       "      <td>Airport</td>\n",
       "      <td>NaN</td>\n",
       "    </tr>\n",
       "    <tr>\n",
       "      <th>6742</th>\n",
       "      <td>6751</td>\n",
       "      <td>City</td>\n",
       "      <td>NaN</td>\n",
       "    </tr>\n",
       "    <tr>\n",
       "      <th>6743</th>\n",
       "      <td>6754</td>\n",
       "      <td>City</td>\n",
       "      <td>NaN</td>\n",
       "    </tr>\n",
       "    <tr>\n",
       "      <th>6744</th>\n",
       "      <td>6753</td>\n",
       "      <td>Airport</td>\n",
       "      <td>NaN</td>\n",
       "    </tr>\n",
       "  </tbody>\n",
       "</table>\n",
       "<p>6745 rows × 3 columns</p>\n",
       "</div>"
      ],
      "text/plain": [
       "      Request id Pickup point  Driver id\n",
       "0            619      Airport        1.0\n",
       "1            867      Airport        1.0\n",
       "2           1807         City        1.0\n",
       "3           2532      Airport        1.0\n",
       "4           3112         City        1.0\n",
       "...          ...          ...        ...\n",
       "6740        6745         City        NaN\n",
       "6741        6752      Airport        NaN\n",
       "6742        6751         City        NaN\n",
       "6743        6754         City        NaN\n",
       "6744        6753      Airport        NaN\n",
       "\n",
       "[6745 rows x 3 columns]"
      ]
     },
     "execution_count": 6,
     "metadata": {},
     "output_type": "execute_result"
    }
   ],
   "source": [
    "uber_data.iloc[:,[0,1,2]]"
   ]
  },
  {
   "cell_type": "markdown",
   "metadata": {
    "id": "DrA1raCZnF8O"
   },
   "source": [
    "### E. Fetch the first, second, eighth and the 706th rows of the 1st, 3rd and the 6th columns of the data frame."
   ]
  },
  {
   "cell_type": "code",
   "execution_count": 7,
   "metadata": {
    "id": "oRcXz5KynF8O",
    "outputId": "2e5db4af-a49e-43da-db31-1fc4c0348eb3",
    "scrolled": true
   },
   "outputs": [
    {
     "data": {
      "text/html": [
       "<div>\n",
       "<style scoped>\n",
       "    .dataframe tbody tr th:only-of-type {\n",
       "        vertical-align: middle;\n",
       "    }\n",
       "\n",
       "    .dataframe tbody tr th {\n",
       "        vertical-align: top;\n",
       "    }\n",
       "\n",
       "    .dataframe thead th {\n",
       "        text-align: right;\n",
       "    }\n",
       "</style>\n",
       "<table border=\"1\" class=\"dataframe\">\n",
       "  <thead>\n",
       "    <tr style=\"text-align: right;\">\n",
       "      <th></th>\n",
       "      <th>Request id</th>\n",
       "      <th>Driver id</th>\n",
       "      <th>Drop timestamp</th>\n",
       "    </tr>\n",
       "  </thead>\n",
       "  <tbody>\n",
       "    <tr>\n",
       "      <th>0</th>\n",
       "      <td>619</td>\n",
       "      <td>1.0</td>\n",
       "      <td>11/7/2016 13:00</td>\n",
       "    </tr>\n",
       "    <tr>\n",
       "      <th>2</th>\n",
       "      <td>1807</td>\n",
       "      <td>1.0</td>\n",
       "      <td>12/7/2016 9:58</td>\n",
       "    </tr>\n",
       "    <tr>\n",
       "      <th>8</th>\n",
       "      <td>6248</td>\n",
       "      <td>1.0</td>\n",
       "      <td>15-07-2016 18:50:51</td>\n",
       "    </tr>\n",
       "    <tr>\n",
       "      <th>706</th>\n",
       "      <td>285</td>\n",
       "      <td>74.0</td>\n",
       "      <td>11/7/2016 7:40</td>\n",
       "    </tr>\n",
       "  </tbody>\n",
       "</table>\n",
       "</div>"
      ],
      "text/plain": [
       "     Request id  Driver id       Drop timestamp\n",
       "0           619        1.0      11/7/2016 13:00\n",
       "2          1807        1.0       12/7/2016 9:58\n",
       "8          6248        1.0  15-07-2016 18:50:51\n",
       "706         285       74.0       11/7/2016 7:40"
      ]
     },
     "execution_count": 7,
     "metadata": {},
     "output_type": "execute_result"
    }
   ],
   "source": [
    "uber_data.iloc[[0,2,8,706],[0,2,5]]"
   ]
  },
  {
   "cell_type": "markdown",
   "metadata": {
    "id": "F1ufJiZEnF8O"
   },
   "source": [
    "### F. Create a small dataframe to identify the number of drivers and average trip they complete daily."
   ]
  },
  {
   "cell_type": "code",
   "execution_count": 8,
   "metadata": {
    "id": "TTvuIQeGnF8O",
    "outputId": "54483bbc-4f0f-4c08-93fc-aa68856b9fde"
   },
   "outputs": [
    {
     "data": {
      "text/html": [
       "<div>\n",
       "<style scoped>\n",
       "    .dataframe tbody tr th:only-of-type {\n",
       "        vertical-align: middle;\n",
       "    }\n",
       "\n",
       "    .dataframe tbody tr th {\n",
       "        vertical-align: top;\n",
       "    }\n",
       "\n",
       "    .dataframe thead th {\n",
       "        text-align: right;\n",
       "    }\n",
       "</style>\n",
       "<table border=\"1\" class=\"dataframe\">\n",
       "  <thead>\n",
       "    <tr style=\"text-align: right;\">\n",
       "      <th></th>\n",
       "      <th>Total No. of Drivers</th>\n",
       "      <th>Total Demand Per Day</th>\n",
       "      <th>Trip_Completed_Count_Per_Day</th>\n",
       "    </tr>\n",
       "  </thead>\n",
       "  <tbody>\n",
       "    <tr>\n",
       "      <th>0</th>\n",
       "      <td>300</td>\n",
       "      <td>1349.0</td>\n",
       "      <td>566.2</td>\n",
       "    </tr>\n",
       "  </tbody>\n",
       "</table>\n",
       "</div>"
      ],
      "text/plain": [
       "   Total No. of Drivers  Total Demand Per Day  Trip_Completed_Count_Per_Day\n",
       "0                   300                1349.0                         566.2"
      ]
     },
     "execution_count": 8,
     "metadata": {},
     "output_type": "execute_result"
    }
   ],
   "source": [
    "demand_vs_supply = pd.DataFrame({'Total No. of Drivers':[uber_data['Driver id'].nunique()], \n",
    "                                 'Total Demand Per Day':[uber_data['Request id'].nunique()/5],\n",
    "                                'Trip_Completed_Count_Per_Day':uber_data[(uber_data['Status']=='Trip Completed')].shape[0]/5})\n",
    "demand_vs_supply"
   ]
  },
  {
   "cell_type": "markdown",
   "metadata": {
    "id": "hVchT5XhnF8P"
   },
   "source": [
    "### G. On average how many request each driver gets?"
   ]
  },
  {
   "cell_type": "code",
   "execution_count": 9,
   "metadata": {
    "id": "WI0CcJq9nF8P",
    "outputId": "c229f860-281e-4afd-fa76-307f99db6c60"
   },
   "outputs": [
    {
     "data": {
      "text/plain": [
       "0    4.496667\n",
       "dtype: float64"
      ]
     },
     "execution_count": 9,
     "metadata": {},
     "output_type": "execute_result"
    }
   ],
   "source": [
    "\n",
    "demand_vs_supply['Total Demand Per Day']/demand_vs_supply['Total No. of Drivers']"
   ]
  },
  {
   "cell_type": "markdown",
   "metadata": {
    "id": "pJr4honsnF8P"
   },
   "source": [
    " <span style=\"font-family: Arial; font-weight:bold;font-size:1.5em;color:#0ab6fa\">2. Depth  Data Analysis"
   ]
  },
  {
   "cell_type": "markdown",
   "metadata": {
    "id": "BMReyVx-nF8P"
   },
   "source": [
    "##### A. Format the date on `request timestamp` and `drop timestamp` columns\n",
    "\n",
    "##### B. Create a derived metrics from `timestamp` columns and print the top few rows out of it.\n",
    "\n",
    "   Step1: Using `Request timestamp` columns create new columns called [Request Date,Request Time,Request Weekday,Request Hour] \n",
    "    \n",
    "   Step2: Using  `Drop timestamp` columns create new columns called [Drop Date,Drop Time] \n",
    "\n",
    "##### C. Group the data by `status` and count the number of `request ids` for each `status type`.\n",
    "\n",
    "##### D. Find the range between `Request Date`.\n",
    "\n",
    "##### E. Print all unique dates\n",
    "\n",
    "##### F . Group by `driver id` and `status type` and print the top 10 rows.\n",
    "\n",
    "##### G. Filter the dataframe for which trip is either cancelled or no cab was available.\n",
    "\n",
    "##### H. Filter the  dataframe for which trip was completed. Group by status type to check the count.\n",
    "\n",
    "##### I. Group by `status` to check total count of trip completed and cancelled?"
   ]
  },
  {
   "cell_type": "markdown",
   "metadata": {
    "id": "S66gwvVwnF8P"
   },
   "source": [
    "### A. Format the date on request timestamp and drop timestamp columns"
   ]
  },
  {
   "cell_type": "code",
   "execution_count": 18,
   "metadata": {
    "id": "7c4emRaInF8P"
   },
   "outputs": [],
   "source": [
    "uber_data[\"Request timestamp\"] = pd.to_datetime(uber_data[\"Request timestamp\"], dayfirst=True)\n",
    "uber_data[\"Drop timestamp\"] = pd.to_datetime(uber_data[\"Drop timestamp\"], dayfirst=True)"
   ]
  },
  {
   "cell_type": "code",
   "execution_count": 19,
   "metadata": {},
   "outputs": [
    {
     "data": {
      "text/html": [
       "<div>\n",
       "<style scoped>\n",
       "    .dataframe tbody tr th:only-of-type {\n",
       "        vertical-align: middle;\n",
       "    }\n",
       "\n",
       "    .dataframe tbody tr th {\n",
       "        vertical-align: top;\n",
       "    }\n",
       "\n",
       "    .dataframe thead th {\n",
       "        text-align: right;\n",
       "    }\n",
       "</style>\n",
       "<table border=\"1\" class=\"dataframe\">\n",
       "  <thead>\n",
       "    <tr style=\"text-align: right;\">\n",
       "      <th></th>\n",
       "      <th>Request id</th>\n",
       "      <th>Pickup point</th>\n",
       "      <th>Driver id</th>\n",
       "      <th>Status</th>\n",
       "      <th>Request timestamp</th>\n",
       "      <th>Drop timestamp</th>\n",
       "    </tr>\n",
       "  </thead>\n",
       "  <tbody>\n",
       "    <tr>\n",
       "      <th>0</th>\n",
       "      <td>619</td>\n",
       "      <td>Airport</td>\n",
       "      <td>1.0</td>\n",
       "      <td>Trip Completed</td>\n",
       "      <td>2016-07-11 11:51:00</td>\n",
       "      <td>2016-07-11 13:00:00</td>\n",
       "    </tr>\n",
       "    <tr>\n",
       "      <th>1</th>\n",
       "      <td>867</td>\n",
       "      <td>Airport</td>\n",
       "      <td>1.0</td>\n",
       "      <td>Trip Completed</td>\n",
       "      <td>2016-07-11 17:57:00</td>\n",
       "      <td>2016-07-11 18:47:00</td>\n",
       "    </tr>\n",
       "    <tr>\n",
       "      <th>2</th>\n",
       "      <td>1807</td>\n",
       "      <td>City</td>\n",
       "      <td>1.0</td>\n",
       "      <td>Trip Completed</td>\n",
       "      <td>2016-07-12 09:17:00</td>\n",
       "      <td>2016-07-12 09:58:00</td>\n",
       "    </tr>\n",
       "    <tr>\n",
       "      <th>3</th>\n",
       "      <td>2532</td>\n",
       "      <td>Airport</td>\n",
       "      <td>1.0</td>\n",
       "      <td>Trip Completed</td>\n",
       "      <td>2016-07-12 21:08:00</td>\n",
       "      <td>2016-07-12 22:03:00</td>\n",
       "    </tr>\n",
       "    <tr>\n",
       "      <th>4</th>\n",
       "      <td>3112</td>\n",
       "      <td>City</td>\n",
       "      <td>1.0</td>\n",
       "      <td>Trip Completed</td>\n",
       "      <td>2016-07-13 08:33:16</td>\n",
       "      <td>2016-07-13 09:25:47</td>\n",
       "    </tr>\n",
       "  </tbody>\n",
       "</table>\n",
       "</div>"
      ],
      "text/plain": [
       "   Request id Pickup point  Driver id          Status   Request timestamp  \\\n",
       "0         619      Airport        1.0  Trip Completed 2016-07-11 11:51:00   \n",
       "1         867      Airport        1.0  Trip Completed 2016-07-11 17:57:00   \n",
       "2        1807         City        1.0  Trip Completed 2016-07-12 09:17:00   \n",
       "3        2532      Airport        1.0  Trip Completed 2016-07-12 21:08:00   \n",
       "4        3112         City        1.0  Trip Completed 2016-07-13 08:33:16   \n",
       "\n",
       "       Drop timestamp  \n",
       "0 2016-07-11 13:00:00  \n",
       "1 2016-07-11 18:47:00  \n",
       "2 2016-07-12 09:58:00  \n",
       "3 2016-07-12 22:03:00  \n",
       "4 2016-07-13 09:25:47  "
      ]
     },
     "execution_count": 19,
     "metadata": {},
     "output_type": "execute_result"
    }
   ],
   "source": [
    "uber_data.head()"
   ]
  },
  {
   "cell_type": "markdown",
   "metadata": {
    "id": "vROX-waEnF8P"
   },
   "source": [
    "### B. Create a derived metrics from timestamp columns and print the top few rows out of it.\n",
    "\n",
    "Step1: Using Request timestamp columns create new columns called [Request Date,Request Time,Request Weekday,Request Hour]\n",
    "\n",
    "Step2: Using Drop timestamp columns create new columns called [Drop Date,Drop Time]"
   ]
  },
  {
   "cell_type": "code",
   "execution_count": 12,
   "metadata": {},
   "outputs": [
    {
     "data": {
      "text/html": [
       "<div>\n",
       "<style scoped>\n",
       "    .dataframe tbody tr th:only-of-type {\n",
       "        vertical-align: middle;\n",
       "    }\n",
       "\n",
       "    .dataframe tbody tr th {\n",
       "        vertical-align: top;\n",
       "    }\n",
       "\n",
       "    .dataframe thead th {\n",
       "        text-align: right;\n",
       "    }\n",
       "</style>\n",
       "<table border=\"1\" class=\"dataframe\">\n",
       "  <thead>\n",
       "    <tr style=\"text-align: right;\">\n",
       "      <th></th>\n",
       "      <th>Request id</th>\n",
       "      <th>Pickup point</th>\n",
       "      <th>Driver id</th>\n",
       "      <th>Status</th>\n",
       "      <th>Request timestamp</th>\n",
       "      <th>Drop timestamp</th>\n",
       "    </tr>\n",
       "  </thead>\n",
       "  <tbody>\n",
       "    <tr>\n",
       "      <th>0</th>\n",
       "      <td>619</td>\n",
       "      <td>Airport</td>\n",
       "      <td>1.0</td>\n",
       "      <td>Trip Completed</td>\n",
       "      <td>11/7/2016 11:51</td>\n",
       "      <td>11/7/2016 13:00</td>\n",
       "    </tr>\n",
       "    <tr>\n",
       "      <th>1</th>\n",
       "      <td>867</td>\n",
       "      <td>Airport</td>\n",
       "      <td>1.0</td>\n",
       "      <td>Trip Completed</td>\n",
       "      <td>11/7/2016 17:57</td>\n",
       "      <td>11/7/2016 18:47</td>\n",
       "    </tr>\n",
       "    <tr>\n",
       "      <th>2</th>\n",
       "      <td>1807</td>\n",
       "      <td>City</td>\n",
       "      <td>1.0</td>\n",
       "      <td>Trip Completed</td>\n",
       "      <td>12/7/2016 9:17</td>\n",
       "      <td>12/7/2016 9:58</td>\n",
       "    </tr>\n",
       "    <tr>\n",
       "      <th>3</th>\n",
       "      <td>2532</td>\n",
       "      <td>Airport</td>\n",
       "      <td>1.0</td>\n",
       "      <td>Trip Completed</td>\n",
       "      <td>12/7/2016 21:08</td>\n",
       "      <td>12/7/2016 22:03</td>\n",
       "    </tr>\n",
       "    <tr>\n",
       "      <th>4</th>\n",
       "      <td>3112</td>\n",
       "      <td>City</td>\n",
       "      <td>1.0</td>\n",
       "      <td>Trip Completed</td>\n",
       "      <td>13-07-2016 08:33:16</td>\n",
       "      <td>13-07-2016 09:25:47</td>\n",
       "    </tr>\n",
       "  </tbody>\n",
       "</table>\n",
       "</div>"
      ],
      "text/plain": [
       "   Request id Pickup point  Driver id          Status    Request timestamp  \\\n",
       "0         619      Airport        1.0  Trip Completed      11/7/2016 11:51   \n",
       "1         867      Airport        1.0  Trip Completed      11/7/2016 17:57   \n",
       "2        1807         City        1.0  Trip Completed       12/7/2016 9:17   \n",
       "3        2532      Airport        1.0  Trip Completed      12/7/2016 21:08   \n",
       "4        3112         City        1.0  Trip Completed  13-07-2016 08:33:16   \n",
       "\n",
       "        Drop timestamp  \n",
       "0      11/7/2016 13:00  \n",
       "1      11/7/2016 18:47  \n",
       "2       12/7/2016 9:58  \n",
       "3      12/7/2016 22:03  \n",
       "4  13-07-2016 09:25:47  "
      ]
     },
     "execution_count": 12,
     "metadata": {},
     "output_type": "execute_result"
    }
   ],
   "source": [
    "uber_data.head()"
   ]
  },
  {
   "cell_type": "code",
   "execution_count": 23,
   "metadata": {},
   "outputs": [
    {
     "data": {
      "text/plain": [
       "0       11\n",
       "1       17\n",
       "2        9\n",
       "3       21\n",
       "4        8\n",
       "        ..\n",
       "6740    23\n",
       "6741    23\n",
       "6742    23\n",
       "6743    23\n",
       "6744    23\n",
       "Name: Request timestamp, Length: 6745, dtype: int64"
      ]
     },
     "execution_count": 23,
     "metadata": {},
     "output_type": "execute_result"
    }
   ],
   "source": [
    "uber_data['Request Weekday'] = uber_data['Request timestamp'].apply(lambda x : dt.datetime.strftime(x, '%A'))\n",
    "uber_data['Request timestamp'].apply(lambda x: x.hour)"
   ]
  },
  {
   "cell_type": "code",
   "execution_count": 11,
   "metadata": {
    "id": "qB_Ic8GrnF8P",
    "outputId": "0b9fdee3-699e-41a0-efe9-c37480464523"
   },
   "outputs": [
    {
     "data": {
      "text/html": [
       "<div>\n",
       "<style scoped>\n",
       "    .dataframe tbody tr th:only-of-type {\n",
       "        vertical-align: middle;\n",
       "    }\n",
       "\n",
       "    .dataframe tbody tr th {\n",
       "        vertical-align: top;\n",
       "    }\n",
       "\n",
       "    .dataframe thead th {\n",
       "        text-align: right;\n",
       "    }\n",
       "</style>\n",
       "<table border=\"1\" class=\"dataframe\">\n",
       "  <thead>\n",
       "    <tr style=\"text-align: right;\">\n",
       "      <th></th>\n",
       "      <th>Request id</th>\n",
       "      <th>Pickup point</th>\n",
       "      <th>Driver id</th>\n",
       "      <th>Status</th>\n",
       "      <th>Request timestamp</th>\n",
       "      <th>Drop timestamp</th>\n",
       "      <th>Request Date</th>\n",
       "      <th>Request Time</th>\n",
       "      <th>Drop Date</th>\n",
       "      <th>Drop Time</th>\n",
       "      <th>Request Weekday</th>\n",
       "      <th>Request Hour</th>\n",
       "    </tr>\n",
       "  </thead>\n",
       "  <tbody>\n",
       "    <tr>\n",
       "      <th>0</th>\n",
       "      <td>619</td>\n",
       "      <td>Airport</td>\n",
       "      <td>1.0</td>\n",
       "      <td>Trip Completed</td>\n",
       "      <td>2016-07-11 11:51:00</td>\n",
       "      <td>2016-07-11 13:00:00</td>\n",
       "      <td>2016-07-11</td>\n",
       "      <td>11:51:00</td>\n",
       "      <td>2016-07-11</td>\n",
       "      <td>13:00:00</td>\n",
       "      <td>Monday</td>\n",
       "      <td>11</td>\n",
       "    </tr>\n",
       "    <tr>\n",
       "      <th>1</th>\n",
       "      <td>867</td>\n",
       "      <td>Airport</td>\n",
       "      <td>1.0</td>\n",
       "      <td>Trip Completed</td>\n",
       "      <td>2016-07-11 17:57:00</td>\n",
       "      <td>2016-07-11 18:47:00</td>\n",
       "      <td>2016-07-11</td>\n",
       "      <td>17:57:00</td>\n",
       "      <td>2016-07-11</td>\n",
       "      <td>18:47:00</td>\n",
       "      <td>Monday</td>\n",
       "      <td>17</td>\n",
       "    </tr>\n",
       "    <tr>\n",
       "      <th>2</th>\n",
       "      <td>1807</td>\n",
       "      <td>City</td>\n",
       "      <td>1.0</td>\n",
       "      <td>Trip Completed</td>\n",
       "      <td>2016-07-12 09:17:00</td>\n",
       "      <td>2016-07-12 09:58:00</td>\n",
       "      <td>2016-07-12</td>\n",
       "      <td>09:17:00</td>\n",
       "      <td>2016-07-12</td>\n",
       "      <td>09:58:00</td>\n",
       "      <td>Tuesday</td>\n",
       "      <td>9</td>\n",
       "    </tr>\n",
       "    <tr>\n",
       "      <th>3</th>\n",
       "      <td>2532</td>\n",
       "      <td>Airport</td>\n",
       "      <td>1.0</td>\n",
       "      <td>Trip Completed</td>\n",
       "      <td>2016-07-12 21:08:00</td>\n",
       "      <td>2016-07-12 22:03:00</td>\n",
       "      <td>2016-07-12</td>\n",
       "      <td>21:08:00</td>\n",
       "      <td>2016-07-12</td>\n",
       "      <td>22:03:00</td>\n",
       "      <td>Tuesday</td>\n",
       "      <td>21</td>\n",
       "    </tr>\n",
       "    <tr>\n",
       "      <th>4</th>\n",
       "      <td>3112</td>\n",
       "      <td>City</td>\n",
       "      <td>1.0</td>\n",
       "      <td>Trip Completed</td>\n",
       "      <td>2016-07-13 08:33:16</td>\n",
       "      <td>2016-07-13 09:25:47</td>\n",
       "      <td>2016-07-13</td>\n",
       "      <td>08:33:16</td>\n",
       "      <td>2016-07-13</td>\n",
       "      <td>09:25:47</td>\n",
       "      <td>Wednesday</td>\n",
       "      <td>8</td>\n",
       "    </tr>\n",
       "  </tbody>\n",
       "</table>\n",
       "</div>"
      ],
      "text/plain": [
       "   Request id Pickup point  Driver id          Status   Request timestamp  \\\n",
       "0         619      Airport        1.0  Trip Completed 2016-07-11 11:51:00   \n",
       "1         867      Airport        1.0  Trip Completed 2016-07-11 17:57:00   \n",
       "2        1807         City        1.0  Trip Completed 2016-07-12 09:17:00   \n",
       "3        2532      Airport        1.0  Trip Completed 2016-07-12 21:08:00   \n",
       "4        3112         City        1.0  Trip Completed 2016-07-13 08:33:16   \n",
       "\n",
       "       Drop timestamp Request Date Request Time   Drop Date Drop Time  \\\n",
       "0 2016-07-11 13:00:00   2016-07-11     11:51:00  2016-07-11  13:00:00   \n",
       "1 2016-07-11 18:47:00   2016-07-11     17:57:00  2016-07-11  18:47:00   \n",
       "2 2016-07-12 09:58:00   2016-07-12     09:17:00  2016-07-12  09:58:00   \n",
       "3 2016-07-12 22:03:00   2016-07-12     21:08:00  2016-07-12  22:03:00   \n",
       "4 2016-07-13 09:25:47   2016-07-13     08:33:16  2016-07-13  09:25:47   \n",
       "\n",
       "  Request Weekday  Request Hour  \n",
       "0          Monday            11  \n",
       "1          Monday            17  \n",
       "2         Tuesday             9  \n",
       "3         Tuesday            21  \n",
       "4       Wednesday             8  "
      ]
     },
     "execution_count": 11,
     "metadata": {},
     "output_type": "execute_result"
    }
   ],
   "source": [
    "uber_data['Request Date'] = uber_data[\"Request timestamp\"].dt.date\n",
    "uber_data['Request Time'] = uber_data[\"Request timestamp\"].dt.time\n",
    "uber_data['Drop Date'] = uber_data[\"Drop timestamp\"].dt.date\n",
    "uber_data['Drop Time'] = uber_data[\"Drop timestamp\"].dt.time\n",
    "uber_data['Request Weekday'] = uber_data['Request timestamp'].apply(lambda x: dt.datetime.strftime(x, '%A'))\n",
    "uber_data['Request Hour'] = uber_data['Request timestamp'].apply(lambda x: x.hour)\n",
    "uber_data.head()"
   ]
  },
  {
   "cell_type": "markdown",
   "metadata": {
    "id": "yUL679benF8P"
   },
   "source": [
    "### C. Group the data by status and count the number of request ids for each status type"
   ]
  },
  {
   "cell_type": "code",
   "execution_count": 12,
   "metadata": {
    "id": "hT_uJ4-SnF8P",
    "outputId": "552a1042-2897-4b45-87d6-4ec4eef2e4df"
   },
   "outputs": [
    {
     "data": {
      "text/html": [
       "<div>\n",
       "<style scoped>\n",
       "    .dataframe tbody tr th:only-of-type {\n",
       "        vertical-align: middle;\n",
       "    }\n",
       "\n",
       "    .dataframe tbody tr th {\n",
       "        vertical-align: top;\n",
       "    }\n",
       "\n",
       "    .dataframe thead th {\n",
       "        text-align: right;\n",
       "    }\n",
       "</style>\n",
       "<table border=\"1\" class=\"dataframe\">\n",
       "  <thead>\n",
       "    <tr style=\"text-align: right;\">\n",
       "      <th></th>\n",
       "      <th>Request id</th>\n",
       "      <th>Pickup point</th>\n",
       "      <th>Driver id</th>\n",
       "      <th>Request timestamp</th>\n",
       "      <th>Drop timestamp</th>\n",
       "      <th>Request Date</th>\n",
       "      <th>Request Time</th>\n",
       "      <th>Drop Date</th>\n",
       "      <th>Drop Time</th>\n",
       "      <th>Request Weekday</th>\n",
       "      <th>Request Hour</th>\n",
       "    </tr>\n",
       "    <tr>\n",
       "      <th>Status</th>\n",
       "      <th></th>\n",
       "      <th></th>\n",
       "      <th></th>\n",
       "      <th></th>\n",
       "      <th></th>\n",
       "      <th></th>\n",
       "      <th></th>\n",
       "      <th></th>\n",
       "      <th></th>\n",
       "      <th></th>\n",
       "      <th></th>\n",
       "    </tr>\n",
       "  </thead>\n",
       "  <tbody>\n",
       "    <tr>\n",
       "      <th>Cancelled</th>\n",
       "      <td>1264</td>\n",
       "      <td>1264</td>\n",
       "      <td>1264</td>\n",
       "      <td>1264</td>\n",
       "      <td>0</td>\n",
       "      <td>1264</td>\n",
       "      <td>1264</td>\n",
       "      <td>0</td>\n",
       "      <td>0</td>\n",
       "      <td>1264</td>\n",
       "      <td>1264</td>\n",
       "    </tr>\n",
       "    <tr>\n",
       "      <th>No Cars Available</th>\n",
       "      <td>2650</td>\n",
       "      <td>2650</td>\n",
       "      <td>0</td>\n",
       "      <td>2650</td>\n",
       "      <td>0</td>\n",
       "      <td>2650</td>\n",
       "      <td>2650</td>\n",
       "      <td>0</td>\n",
       "      <td>0</td>\n",
       "      <td>2650</td>\n",
       "      <td>2650</td>\n",
       "    </tr>\n",
       "    <tr>\n",
       "      <th>Trip Completed</th>\n",
       "      <td>2831</td>\n",
       "      <td>2831</td>\n",
       "      <td>2831</td>\n",
       "      <td>2831</td>\n",
       "      <td>2831</td>\n",
       "      <td>2831</td>\n",
       "      <td>2831</td>\n",
       "      <td>2831</td>\n",
       "      <td>2831</td>\n",
       "      <td>2831</td>\n",
       "      <td>2831</td>\n",
       "    </tr>\n",
       "  </tbody>\n",
       "</table>\n",
       "</div>"
      ],
      "text/plain": [
       "                   Request id  Pickup point  Driver id  Request timestamp  \\\n",
       "Status                                                                      \n",
       "Cancelled                1264          1264       1264               1264   \n",
       "No Cars Available        2650          2650          0               2650   \n",
       "Trip Completed           2831          2831       2831               2831   \n",
       "\n",
       "                   Drop timestamp  Request Date  Request Time  Drop Date  \\\n",
       "Status                                                                     \n",
       "Cancelled                       0          1264          1264          0   \n",
       "No Cars Available               0          2650          2650          0   \n",
       "Trip Completed               2831          2831          2831       2831   \n",
       "\n",
       "                   Drop Time  Request Weekday  Request Hour  \n",
       "Status                                                       \n",
       "Cancelled                  0             1264          1264  \n",
       "No Cars Available          0             2650          2650  \n",
       "Trip Completed          2831             2831          2831  "
      ]
     },
     "execution_count": 12,
     "metadata": {},
     "output_type": "execute_result"
    }
   ],
   "source": [
    "uber_data.groupby(uber_data.Status).count()"
   ]
  },
  {
   "cell_type": "markdown",
   "metadata": {
    "id": "a28cnuNJnF8P"
   },
   "source": [
    "### D. Find the range between `Request Date`."
   ]
  },
  {
   "cell_type": "code",
   "execution_count": 13,
   "metadata": {
    "id": "T_4rkadNnF8P",
    "outputId": "5e17c63f-f8df-4032-b350-acb44de2224c"
   },
   "outputs": [
    {
     "name": "stdout",
     "output_type": "stream",
     "text": [
      "Minimum Date:  2016-07-11\n",
      "Maximum Date:  2016-07-15\n"
     ]
    }
   ],
   "source": [
    "print(\"Minimum Date: \", min(uber_data['Request Date']))\n",
    "print(\"Maximum Date: \", max(uber_data['Request Date']))"
   ]
  },
  {
   "cell_type": "markdown",
   "metadata": {
    "id": "NGCRptNknF8P"
   },
   "source": [
    "### E. Print all unique dates"
   ]
  },
  {
   "cell_type": "code",
   "execution_count": 14,
   "metadata": {
    "id": "MrxeXb51nF8P",
    "outputId": "62c68068-b35a-4fc3-d422-30c4f16d5e76"
   },
   "outputs": [
    {
     "name": "stdout",
     "output_type": "stream",
     "text": [
      "[datetime.date(2016, 7, 11) datetime.date(2016, 7, 12)\n",
      " datetime.date(2016, 7, 13) datetime.date(2016, 7, 14)\n",
      " datetime.date(2016, 7, 15)]\n"
     ]
    }
   ],
   "source": [
    "print(uber_data['Request Date'].unique())"
   ]
  },
  {
   "cell_type": "markdown",
   "metadata": {
    "id": "jl1RYJX0nF8P"
   },
   "source": [
    "### F . Group by `driver id` and `status type` and print the top 10 rows."
   ]
  },
  {
   "cell_type": "code",
   "execution_count": 15,
   "metadata": {
    "id": "DYQGVKNvnF8P",
    "outputId": "b0ede99c-955c-4469-8129-f530f47ccfa2"
   },
   "outputs": [
    {
     "data": {
      "text/html": [
       "<div>\n",
       "<style scoped>\n",
       "    .dataframe tbody tr th:only-of-type {\n",
       "        vertical-align: middle;\n",
       "    }\n",
       "\n",
       "    .dataframe tbody tr th {\n",
       "        vertical-align: top;\n",
       "    }\n",
       "\n",
       "    .dataframe thead th {\n",
       "        text-align: right;\n",
       "    }\n",
       "</style>\n",
       "<table border=\"1\" class=\"dataframe\">\n",
       "  <thead>\n",
       "    <tr style=\"text-align: right;\">\n",
       "      <th></th>\n",
       "      <th></th>\n",
       "      <th>Request id</th>\n",
       "      <th>Pickup point</th>\n",
       "      <th>Request timestamp</th>\n",
       "      <th>Drop timestamp</th>\n",
       "      <th>Request Date</th>\n",
       "      <th>Request Time</th>\n",
       "      <th>Drop Date</th>\n",
       "      <th>Drop Time</th>\n",
       "      <th>Request Weekday</th>\n",
       "      <th>Request Hour</th>\n",
       "    </tr>\n",
       "    <tr>\n",
       "      <th>Driver id</th>\n",
       "      <th>Status</th>\n",
       "      <th></th>\n",
       "      <th></th>\n",
       "      <th></th>\n",
       "      <th></th>\n",
       "      <th></th>\n",
       "      <th></th>\n",
       "      <th></th>\n",
       "      <th></th>\n",
       "      <th></th>\n",
       "      <th></th>\n",
       "    </tr>\n",
       "  </thead>\n",
       "  <tbody>\n",
       "    <tr>\n",
       "      <th rowspan=\"2\" valign=\"top\">1.0</th>\n",
       "      <th>Cancelled</th>\n",
       "      <td>4</td>\n",
       "      <td>4</td>\n",
       "      <td>4</td>\n",
       "      <td>0</td>\n",
       "      <td>4</td>\n",
       "      <td>4</td>\n",
       "      <td>0</td>\n",
       "      <td>0</td>\n",
       "      <td>4</td>\n",
       "      <td>4</td>\n",
       "    </tr>\n",
       "    <tr>\n",
       "      <th>Trip Completed</th>\n",
       "      <td>9</td>\n",
       "      <td>9</td>\n",
       "      <td>9</td>\n",
       "      <td>9</td>\n",
       "      <td>9</td>\n",
       "      <td>9</td>\n",
       "      <td>9</td>\n",
       "      <td>9</td>\n",
       "      <td>9</td>\n",
       "      <td>9</td>\n",
       "    </tr>\n",
       "    <tr>\n",
       "      <th rowspan=\"2\" valign=\"top\">2.0</th>\n",
       "      <th>Cancelled</th>\n",
       "      <td>4</td>\n",
       "      <td>4</td>\n",
       "      <td>4</td>\n",
       "      <td>0</td>\n",
       "      <td>4</td>\n",
       "      <td>4</td>\n",
       "      <td>0</td>\n",
       "      <td>0</td>\n",
       "      <td>4</td>\n",
       "      <td>4</td>\n",
       "    </tr>\n",
       "    <tr>\n",
       "      <th>Trip Completed</th>\n",
       "      <td>9</td>\n",
       "      <td>9</td>\n",
       "      <td>9</td>\n",
       "      <td>9</td>\n",
       "      <td>9</td>\n",
       "      <td>9</td>\n",
       "      <td>9</td>\n",
       "      <td>9</td>\n",
       "      <td>9</td>\n",
       "      <td>9</td>\n",
       "    </tr>\n",
       "    <tr>\n",
       "      <th rowspan=\"2\" valign=\"top\">3.0</th>\n",
       "      <th>Cancelled</th>\n",
       "      <td>4</td>\n",
       "      <td>4</td>\n",
       "      <td>4</td>\n",
       "      <td>0</td>\n",
       "      <td>4</td>\n",
       "      <td>4</td>\n",
       "      <td>0</td>\n",
       "      <td>0</td>\n",
       "      <td>4</td>\n",
       "      <td>4</td>\n",
       "    </tr>\n",
       "    <tr>\n",
       "      <th>Trip Completed</th>\n",
       "      <td>10</td>\n",
       "      <td>10</td>\n",
       "      <td>10</td>\n",
       "      <td>10</td>\n",
       "      <td>10</td>\n",
       "      <td>10</td>\n",
       "      <td>10</td>\n",
       "      <td>10</td>\n",
       "      <td>10</td>\n",
       "      <td>10</td>\n",
       "    </tr>\n",
       "    <tr>\n",
       "      <th rowspan=\"2\" valign=\"top\">4.0</th>\n",
       "      <th>Cancelled</th>\n",
       "      <td>5</td>\n",
       "      <td>5</td>\n",
       "      <td>5</td>\n",
       "      <td>0</td>\n",
       "      <td>5</td>\n",
       "      <td>5</td>\n",
       "      <td>0</td>\n",
       "      <td>0</td>\n",
       "      <td>5</td>\n",
       "      <td>5</td>\n",
       "    </tr>\n",
       "    <tr>\n",
       "      <th>Trip Completed</th>\n",
       "      <td>10</td>\n",
       "      <td>10</td>\n",
       "      <td>10</td>\n",
       "      <td>10</td>\n",
       "      <td>10</td>\n",
       "      <td>10</td>\n",
       "      <td>10</td>\n",
       "      <td>10</td>\n",
       "      <td>10</td>\n",
       "      <td>10</td>\n",
       "    </tr>\n",
       "    <tr>\n",
       "      <th rowspan=\"2\" valign=\"top\">5.0</th>\n",
       "      <th>Cancelled</th>\n",
       "      <td>2</td>\n",
       "      <td>2</td>\n",
       "      <td>2</td>\n",
       "      <td>0</td>\n",
       "      <td>2</td>\n",
       "      <td>2</td>\n",
       "      <td>0</td>\n",
       "      <td>0</td>\n",
       "      <td>2</td>\n",
       "      <td>2</td>\n",
       "    </tr>\n",
       "    <tr>\n",
       "      <th>Trip Completed</th>\n",
       "      <td>11</td>\n",
       "      <td>11</td>\n",
       "      <td>11</td>\n",
       "      <td>11</td>\n",
       "      <td>11</td>\n",
       "      <td>11</td>\n",
       "      <td>11</td>\n",
       "      <td>11</td>\n",
       "      <td>11</td>\n",
       "      <td>11</td>\n",
       "    </tr>\n",
       "  </tbody>\n",
       "</table>\n",
       "</div>"
      ],
      "text/plain": [
       "                          Request id  Pickup point  Request timestamp  \\\n",
       "Driver id Status                                                        \n",
       "1.0       Cancelled                4             4                  4   \n",
       "          Trip Completed           9             9                  9   \n",
       "2.0       Cancelled                4             4                  4   \n",
       "          Trip Completed           9             9                  9   \n",
       "3.0       Cancelled                4             4                  4   \n",
       "          Trip Completed          10            10                 10   \n",
       "4.0       Cancelled                5             5                  5   \n",
       "          Trip Completed          10            10                 10   \n",
       "5.0       Cancelled                2             2                  2   \n",
       "          Trip Completed          11            11                 11   \n",
       "\n",
       "                          Drop timestamp  Request Date  Request Time  \\\n",
       "Driver id Status                                                       \n",
       "1.0       Cancelled                    0             4             4   \n",
       "          Trip Completed               9             9             9   \n",
       "2.0       Cancelled                    0             4             4   \n",
       "          Trip Completed               9             9             9   \n",
       "3.0       Cancelled                    0             4             4   \n",
       "          Trip Completed              10            10            10   \n",
       "4.0       Cancelled                    0             5             5   \n",
       "          Trip Completed              10            10            10   \n",
       "5.0       Cancelled                    0             2             2   \n",
       "          Trip Completed              11            11            11   \n",
       "\n",
       "                          Drop Date  Drop Time  Request Weekday  Request Hour  \n",
       "Driver id Status                                                               \n",
       "1.0       Cancelled               0          0                4             4  \n",
       "          Trip Completed          9          9                9             9  \n",
       "2.0       Cancelled               0          0                4             4  \n",
       "          Trip Completed          9          9                9             9  \n",
       "3.0       Cancelled               0          0                4             4  \n",
       "          Trip Completed         10         10               10            10  \n",
       "4.0       Cancelled               0          0                5             5  \n",
       "          Trip Completed         10         10               10            10  \n",
       "5.0       Cancelled               0          0                2             2  \n",
       "          Trip Completed         11         11               11            11  "
      ]
     },
     "execution_count": 15,
     "metadata": {},
     "output_type": "execute_result"
    }
   ],
   "source": [
    "uber_data_groupby_status_and_driverId = uber_data.groupby([\"Driver id\",\"Status\"]).count()\n",
    "uber_data_groupby_status_and_driverId.head(10)"
   ]
  },
  {
   "cell_type": "markdown",
   "metadata": {
    "id": "HmooT8R5nF8P"
   },
   "source": [
    "### G. Filter the dataframe for which trip is either cancelled or no cab was available."
   ]
  },
  {
   "cell_type": "code",
   "execution_count": 16,
   "metadata": {
    "id": "qDqzONFinF8P",
    "outputId": "2fc9344b-f3d2-4f5f-f96a-b4d12afb0da5"
   },
   "outputs": [
    {
     "data": {
      "text/html": [
       "<div>\n",
       "<style scoped>\n",
       "    .dataframe tbody tr th:only-of-type {\n",
       "        vertical-align: middle;\n",
       "    }\n",
       "\n",
       "    .dataframe tbody tr th {\n",
       "        vertical-align: top;\n",
       "    }\n",
       "\n",
       "    .dataframe thead th {\n",
       "        text-align: right;\n",
       "    }\n",
       "</style>\n",
       "<table border=\"1\" class=\"dataframe\">\n",
       "  <thead>\n",
       "    <tr style=\"text-align: right;\">\n",
       "      <th></th>\n",
       "      <th>Request id</th>\n",
       "      <th>Pickup point</th>\n",
       "      <th>Driver id</th>\n",
       "      <th>Status</th>\n",
       "      <th>Request timestamp</th>\n",
       "      <th>Drop timestamp</th>\n",
       "      <th>Request Date</th>\n",
       "      <th>Request Time</th>\n",
       "      <th>Drop Date</th>\n",
       "      <th>Drop Time</th>\n",
       "      <th>Request Weekday</th>\n",
       "      <th>Request Hour</th>\n",
       "    </tr>\n",
       "  </thead>\n",
       "  <tbody>\n",
       "    <tr>\n",
       "      <th>2831</th>\n",
       "      <td>2905</td>\n",
       "      <td>City</td>\n",
       "      <td>1.0</td>\n",
       "      <td>Cancelled</td>\n",
       "      <td>2016-07-13 06:08:41</td>\n",
       "      <td>NaT</td>\n",
       "      <td>2016-07-13</td>\n",
       "      <td>06:08:41</td>\n",
       "      <td>NaT</td>\n",
       "      <td>NaT</td>\n",
       "      <td>Wednesday</td>\n",
       "      <td>6</td>\n",
       "    </tr>\n",
       "    <tr>\n",
       "      <th>2832</th>\n",
       "      <td>4805</td>\n",
       "      <td>City</td>\n",
       "      <td>1.0</td>\n",
       "      <td>Cancelled</td>\n",
       "      <td>2016-07-14 17:07:58</td>\n",
       "      <td>NaT</td>\n",
       "      <td>2016-07-14</td>\n",
       "      <td>17:07:58</td>\n",
       "      <td>NaT</td>\n",
       "      <td>NaT</td>\n",
       "      <td>Thursday</td>\n",
       "      <td>17</td>\n",
       "    </tr>\n",
       "    <tr>\n",
       "      <th>2833</th>\n",
       "      <td>5202</td>\n",
       "      <td>Airport</td>\n",
       "      <td>1.0</td>\n",
       "      <td>Cancelled</td>\n",
       "      <td>2016-07-14 20:51:37</td>\n",
       "      <td>NaT</td>\n",
       "      <td>2016-07-14</td>\n",
       "      <td>20:51:37</td>\n",
       "      <td>NaT</td>\n",
       "      <td>NaT</td>\n",
       "      <td>Thursday</td>\n",
       "      <td>20</td>\n",
       "    </tr>\n",
       "    <tr>\n",
       "      <th>2834</th>\n",
       "      <td>5927</td>\n",
       "      <td>City</td>\n",
       "      <td>1.0</td>\n",
       "      <td>Cancelled</td>\n",
       "      <td>2016-07-15 10:12:40</td>\n",
       "      <td>NaT</td>\n",
       "      <td>2016-07-15</td>\n",
       "      <td>10:12:40</td>\n",
       "      <td>NaT</td>\n",
       "      <td>NaT</td>\n",
       "      <td>Friday</td>\n",
       "      <td>10</td>\n",
       "    </tr>\n",
       "    <tr>\n",
       "      <th>2835</th>\n",
       "      <td>2347</td>\n",
       "      <td>Airport</td>\n",
       "      <td>2.0</td>\n",
       "      <td>Cancelled</td>\n",
       "      <td>2016-07-12 19:14:00</td>\n",
       "      <td>NaT</td>\n",
       "      <td>2016-07-12</td>\n",
       "      <td>19:14:00</td>\n",
       "      <td>NaT</td>\n",
       "      <td>NaT</td>\n",
       "      <td>Tuesday</td>\n",
       "      <td>19</td>\n",
       "    </tr>\n",
       "  </tbody>\n",
       "</table>\n",
       "</div>"
      ],
      "text/plain": [
       "      Request id Pickup point  Driver id     Status   Request timestamp  \\\n",
       "2831        2905         City        1.0  Cancelled 2016-07-13 06:08:41   \n",
       "2832        4805         City        1.0  Cancelled 2016-07-14 17:07:58   \n",
       "2833        5202      Airport        1.0  Cancelled 2016-07-14 20:51:37   \n",
       "2834        5927         City        1.0  Cancelled 2016-07-15 10:12:40   \n",
       "2835        2347      Airport        2.0  Cancelled 2016-07-12 19:14:00   \n",
       "\n",
       "     Drop timestamp Request Date Request Time Drop Date Drop Time  \\\n",
       "2831            NaT   2016-07-13     06:08:41       NaT       NaT   \n",
       "2832            NaT   2016-07-14     17:07:58       NaT       NaT   \n",
       "2833            NaT   2016-07-14     20:51:37       NaT       NaT   \n",
       "2834            NaT   2016-07-15     10:12:40       NaT       NaT   \n",
       "2835            NaT   2016-07-12     19:14:00       NaT       NaT   \n",
       "\n",
       "     Request Weekday  Request Hour  \n",
       "2831       Wednesday             6  \n",
       "2832        Thursday            17  \n",
       "2833        Thursday            20  \n",
       "2834          Friday            10  \n",
       "2835         Tuesday            19  "
      ]
     },
     "execution_count": 16,
     "metadata": {},
     "output_type": "execute_result"
    }
   ],
   "source": [
    "uber_data_with_null_drop_timestamp = uber_data[uber_data[\"Drop timestamp\"].isnull()]\n",
    "uber_data_with_null_drop_timestamp.head()"
   ]
  },
  {
   "cell_type": "markdown",
   "metadata": {
    "id": "sU2CBfNunF8P"
   },
   "source": [
    "### H. Filter the  dataframe for which trip was completed. Group by status type to check the count.\n"
   ]
  },
  {
   "cell_type": "code",
   "execution_count": 17,
   "metadata": {
    "id": "DhPfjoRVnF8P",
    "outputId": "349ad1e2-d8ef-469d-c817-ca186a6ea67e"
   },
   "outputs": [
    {
     "data": {
      "text/html": [
       "<div>\n",
       "<style scoped>\n",
       "    .dataframe tbody tr th:only-of-type {\n",
       "        vertical-align: middle;\n",
       "    }\n",
       "\n",
       "    .dataframe tbody tr th {\n",
       "        vertical-align: top;\n",
       "    }\n",
       "\n",
       "    .dataframe thead th {\n",
       "        text-align: right;\n",
       "    }\n",
       "</style>\n",
       "<table border=\"1\" class=\"dataframe\">\n",
       "  <thead>\n",
       "    <tr style=\"text-align: right;\">\n",
       "      <th></th>\n",
       "      <th>Request id</th>\n",
       "      <th>Pickup point</th>\n",
       "      <th>Driver id</th>\n",
       "      <th>Status</th>\n",
       "      <th>Request timestamp</th>\n",
       "      <th>Drop timestamp</th>\n",
       "      <th>Request Date</th>\n",
       "      <th>Request Time</th>\n",
       "      <th>Drop Date</th>\n",
       "      <th>Drop Time</th>\n",
       "      <th>Request Weekday</th>\n",
       "      <th>Request Hour</th>\n",
       "    </tr>\n",
       "  </thead>\n",
       "  <tbody>\n",
       "    <tr>\n",
       "      <th>0</th>\n",
       "      <td>619</td>\n",
       "      <td>Airport</td>\n",
       "      <td>1.0</td>\n",
       "      <td>Trip Completed</td>\n",
       "      <td>2016-07-11 11:51:00</td>\n",
       "      <td>2016-07-11 13:00:00</td>\n",
       "      <td>2016-07-11</td>\n",
       "      <td>11:51:00</td>\n",
       "      <td>2016-07-11</td>\n",
       "      <td>13:00:00</td>\n",
       "      <td>Monday</td>\n",
       "      <td>11</td>\n",
       "    </tr>\n",
       "    <tr>\n",
       "      <th>1</th>\n",
       "      <td>867</td>\n",
       "      <td>Airport</td>\n",
       "      <td>1.0</td>\n",
       "      <td>Trip Completed</td>\n",
       "      <td>2016-07-11 17:57:00</td>\n",
       "      <td>2016-07-11 18:47:00</td>\n",
       "      <td>2016-07-11</td>\n",
       "      <td>17:57:00</td>\n",
       "      <td>2016-07-11</td>\n",
       "      <td>18:47:00</td>\n",
       "      <td>Monday</td>\n",
       "      <td>17</td>\n",
       "    </tr>\n",
       "    <tr>\n",
       "      <th>2</th>\n",
       "      <td>1807</td>\n",
       "      <td>City</td>\n",
       "      <td>1.0</td>\n",
       "      <td>Trip Completed</td>\n",
       "      <td>2016-07-12 09:17:00</td>\n",
       "      <td>2016-07-12 09:58:00</td>\n",
       "      <td>2016-07-12</td>\n",
       "      <td>09:17:00</td>\n",
       "      <td>2016-07-12</td>\n",
       "      <td>09:58:00</td>\n",
       "      <td>Tuesday</td>\n",
       "      <td>9</td>\n",
       "    </tr>\n",
       "    <tr>\n",
       "      <th>3</th>\n",
       "      <td>2532</td>\n",
       "      <td>Airport</td>\n",
       "      <td>1.0</td>\n",
       "      <td>Trip Completed</td>\n",
       "      <td>2016-07-12 21:08:00</td>\n",
       "      <td>2016-07-12 22:03:00</td>\n",
       "      <td>2016-07-12</td>\n",
       "      <td>21:08:00</td>\n",
       "      <td>2016-07-12</td>\n",
       "      <td>22:03:00</td>\n",
       "      <td>Tuesday</td>\n",
       "      <td>21</td>\n",
       "    </tr>\n",
       "    <tr>\n",
       "      <th>4</th>\n",
       "      <td>3112</td>\n",
       "      <td>City</td>\n",
       "      <td>1.0</td>\n",
       "      <td>Trip Completed</td>\n",
       "      <td>2016-07-13 08:33:16</td>\n",
       "      <td>2016-07-13 09:25:47</td>\n",
       "      <td>2016-07-13</td>\n",
       "      <td>08:33:16</td>\n",
       "      <td>2016-07-13</td>\n",
       "      <td>09:25:47</td>\n",
       "      <td>Wednesday</td>\n",
       "      <td>8</td>\n",
       "    </tr>\n",
       "  </tbody>\n",
       "</table>\n",
       "</div>"
      ],
      "text/plain": [
       "   Request id Pickup point  Driver id          Status   Request timestamp  \\\n",
       "0         619      Airport        1.0  Trip Completed 2016-07-11 11:51:00   \n",
       "1         867      Airport        1.0  Trip Completed 2016-07-11 17:57:00   \n",
       "2        1807         City        1.0  Trip Completed 2016-07-12 09:17:00   \n",
       "3        2532      Airport        1.0  Trip Completed 2016-07-12 21:08:00   \n",
       "4        3112         City        1.0  Trip Completed 2016-07-13 08:33:16   \n",
       "\n",
       "       Drop timestamp Request Date Request Time   Drop Date Drop Time  \\\n",
       "0 2016-07-11 13:00:00   2016-07-11     11:51:00  2016-07-11  13:00:00   \n",
       "1 2016-07-11 18:47:00   2016-07-11     17:57:00  2016-07-11  18:47:00   \n",
       "2 2016-07-12 09:58:00   2016-07-12     09:17:00  2016-07-12  09:58:00   \n",
       "3 2016-07-12 22:03:00   2016-07-12     21:08:00  2016-07-12  22:03:00   \n",
       "4 2016-07-13 09:25:47   2016-07-13     08:33:16  2016-07-13  09:25:47   \n",
       "\n",
       "  Request Weekday  Request Hour  \n",
       "0          Monday            11  \n",
       "1          Monday            17  \n",
       "2         Tuesday             9  \n",
       "3         Tuesday            21  \n",
       "4       Wednesday             8  "
      ]
     },
     "execution_count": 17,
     "metadata": {},
     "output_type": "execute_result"
    }
   ],
   "source": [
    "uber_data_with_drop_timestamp = uber_data[~(uber_data[\"Drop timestamp\"].isnull())]\n",
    "uber_data_with_drop_timestamp.head()"
   ]
  },
  {
   "cell_type": "code",
   "execution_count": 17,
   "metadata": {
    "id": "72iLpKSynF8P",
    "outputId": "2b740e0a-469f-4d3c-d46b-347dc54cf391"
   },
   "outputs": [
    {
     "data": {
      "text/html": [
       "<div>\n",
       "<style scoped>\n",
       "    .dataframe tbody tr th:only-of-type {\n",
       "        vertical-align: middle;\n",
       "    }\n",
       "\n",
       "    .dataframe tbody tr th {\n",
       "        vertical-align: top;\n",
       "    }\n",
       "\n",
       "    .dataframe thead th {\n",
       "        text-align: right;\n",
       "    }\n",
       "</style>\n",
       "<table border=\"1\" class=\"dataframe\">\n",
       "  <thead>\n",
       "    <tr style=\"text-align: right;\">\n",
       "      <th></th>\n",
       "      <th>Request id</th>\n",
       "      <th>Pickup point</th>\n",
       "      <th>Driver id</th>\n",
       "      <th>Request timestamp</th>\n",
       "      <th>Drop timestamp</th>\n",
       "      <th>Request Date</th>\n",
       "      <th>Request Time</th>\n",
       "      <th>Drop Date</th>\n",
       "      <th>Drop Time</th>\n",
       "      <th>Request Weekday</th>\n",
       "      <th>Request Hour</th>\n",
       "    </tr>\n",
       "    <tr>\n",
       "      <th>Status</th>\n",
       "      <th></th>\n",
       "      <th></th>\n",
       "      <th></th>\n",
       "      <th></th>\n",
       "      <th></th>\n",
       "      <th></th>\n",
       "      <th></th>\n",
       "      <th></th>\n",
       "      <th></th>\n",
       "      <th></th>\n",
       "      <th></th>\n",
       "    </tr>\n",
       "  </thead>\n",
       "  <tbody>\n",
       "    <tr>\n",
       "      <th>Trip Completed</th>\n",
       "      <td>2831</td>\n",
       "      <td>2831</td>\n",
       "      <td>2831</td>\n",
       "      <td>2831</td>\n",
       "      <td>2831</td>\n",
       "      <td>2831</td>\n",
       "      <td>2831</td>\n",
       "      <td>2831</td>\n",
       "      <td>2831</td>\n",
       "      <td>2831</td>\n",
       "      <td>2831</td>\n",
       "    </tr>\n",
       "  </tbody>\n",
       "</table>\n",
       "</div>"
      ],
      "text/plain": [
       "                Request id  Pickup point  Driver id  Request timestamp  \\\n",
       "Status                                                                   \n",
       "Trip Completed        2831          2831       2831               2831   \n",
       "\n",
       "                Drop timestamp  Request Date  Request Time  Drop Date  \\\n",
       "Status                                                                  \n",
       "Trip Completed            2831          2831          2831       2831   \n",
       "\n",
       "                Drop Time  Request Weekday  Request Hour  \n",
       "Status                                                    \n",
       "Trip Completed       2831             2831          2831  "
      ]
     },
     "execution_count": 17,
     "metadata": {},
     "output_type": "execute_result"
    }
   ],
   "source": [
    "# grouping by status type to check count\n",
    "uber_data_with_drop_timestamp.groupby(uber_data_with_drop_timestamp.Status).count()"
   ]
  },
  {
   "cell_type": "code",
   "execution_count": null,
   "metadata": {},
   "outputs": [],
   "source": [
    "u"
   ]
  },
  {
   "cell_type": "markdown",
   "metadata": {
    "id": "E2VOUM7UnF8P"
   },
   "source": [
    "### I. Group by `status` to check total count of trip completed and cancelled?"
   ]
  },
  {
   "cell_type": "code",
   "execution_count": 18,
   "metadata": {
    "id": "-y2sfobinF8P"
   },
   "outputs": [],
   "source": [
    "uber_data_with_driver_id = uber_data[~uber_data[\"Driver id\"].isnull()]"
   ]
  },
  {
   "cell_type": "code",
   "execution_count": 19,
   "metadata": {
    "id": "ohzFKcMunF8P",
    "outputId": "840318e9-a26a-4976-f598-77495bba2ae0"
   },
   "outputs": [
    {
     "data": {
      "text/html": [
       "<div>\n",
       "<style scoped>\n",
       "    .dataframe tbody tr th:only-of-type {\n",
       "        vertical-align: middle;\n",
       "    }\n",
       "\n",
       "    .dataframe tbody tr th {\n",
       "        vertical-align: top;\n",
       "    }\n",
       "\n",
       "    .dataframe thead th {\n",
       "        text-align: right;\n",
       "    }\n",
       "</style>\n",
       "<table border=\"1\" class=\"dataframe\">\n",
       "  <thead>\n",
       "    <tr style=\"text-align: right;\">\n",
       "      <th></th>\n",
       "      <th>Request id</th>\n",
       "      <th>Pickup point</th>\n",
       "      <th>Driver id</th>\n",
       "      <th>Request timestamp</th>\n",
       "      <th>Drop timestamp</th>\n",
       "      <th>Request Date</th>\n",
       "      <th>Request Time</th>\n",
       "      <th>Drop Date</th>\n",
       "      <th>Drop Time</th>\n",
       "      <th>Request Weekday</th>\n",
       "      <th>Request Hour</th>\n",
       "    </tr>\n",
       "    <tr>\n",
       "      <th>Status</th>\n",
       "      <th></th>\n",
       "      <th></th>\n",
       "      <th></th>\n",
       "      <th></th>\n",
       "      <th></th>\n",
       "      <th></th>\n",
       "      <th></th>\n",
       "      <th></th>\n",
       "      <th></th>\n",
       "      <th></th>\n",
       "      <th></th>\n",
       "    </tr>\n",
       "  </thead>\n",
       "  <tbody>\n",
       "    <tr>\n",
       "      <th>Cancelled</th>\n",
       "      <td>1264</td>\n",
       "      <td>1264</td>\n",
       "      <td>1264</td>\n",
       "      <td>1264</td>\n",
       "      <td>0</td>\n",
       "      <td>1264</td>\n",
       "      <td>1264</td>\n",
       "      <td>0</td>\n",
       "      <td>0</td>\n",
       "      <td>1264</td>\n",
       "      <td>1264</td>\n",
       "    </tr>\n",
       "    <tr>\n",
       "      <th>Trip Completed</th>\n",
       "      <td>2831</td>\n",
       "      <td>2831</td>\n",
       "      <td>2831</td>\n",
       "      <td>2831</td>\n",
       "      <td>2831</td>\n",
       "      <td>2831</td>\n",
       "      <td>2831</td>\n",
       "      <td>2831</td>\n",
       "      <td>2831</td>\n",
       "      <td>2831</td>\n",
       "      <td>2831</td>\n",
       "    </tr>\n",
       "  </tbody>\n",
       "</table>\n",
       "</div>"
      ],
      "text/plain": [
       "                Request id  Pickup point  Driver id  Request timestamp  \\\n",
       "Status                                                                   \n",
       "Cancelled             1264          1264       1264               1264   \n",
       "Trip Completed        2831          2831       2831               2831   \n",
       "\n",
       "                Drop timestamp  Request Date  Request Time  Drop Date  \\\n",
       "Status                                                                  \n",
       "Cancelled                    0          1264          1264          0   \n",
       "Trip Completed            2831          2831          2831       2831   \n",
       "\n",
       "                Drop Time  Request Weekday  Request Hour  \n",
       "Status                                                    \n",
       "Cancelled               0             1264          1264  \n",
       "Trip Completed       2831             2831          2831  "
      ]
     },
     "execution_count": 19,
     "metadata": {},
     "output_type": "execute_result"
    }
   ],
   "source": [
    "uber_data_with_driver_id.groupby(uber_data_with_driver_id.Status).count()"
   ]
  },
  {
   "cell_type": "code",
   "execution_count": 20,
   "metadata": {
    "id": "00-zaYBAnF8Q",
    "outputId": "f6c431d0-dfea-443f-c94b-a71db3b22fd7",
    "scrolled": true
   },
   "outputs": [
    {
     "name": "stdout",
     "output_type": "stream",
     "text": [
      "Number of rows with driver id but null Drop timestamp: 1264\n"
     ]
    }
   ],
   "source": [
    "print(\"Number of rows with driver id but null Drop timestamp:\", uber_data_with_driver_id[\"Drop timestamp\"].isnull().sum())"
   ]
  },
  {
   "cell_type": "markdown",
   "metadata": {
    "id": "Hg58jNM2nF8Q"
   },
   "source": [
    " <span style=\"font-family: Arial; font-weight:bold;font-size:1.5em;color:#0ab6fa\">3. Visualisation"
   ]
  },
  {
   "cell_type": "markdown",
   "metadata": {
    "id": "nYVMldvWnF8Q"
   },
   "source": [
    "##### A. Display the distribution plot using the column Request Hour\n",
    "\n",
    "##### B. Display the box plot using the column Request Hour and Pickup point\n",
    "\n",
    "##### C. Display the heatmap\n",
    "\n",
    "##### D.Plot suitable graph for `Status` and `Pickup point`. Write your observation.\n",
    "\n",
    "##### E. Plot suitable graph from the data to show demand supply gap\n",
    "\n",
    "  Step1: The graph needs to show\n",
    "\n",
    "  1st line for `Demand` = groupby['Request Hour']).count()['Request id']\n",
    "\n",
    "  2nd line for `Supply` = groupby['Status']==\"Trip Completed\"]['Request Hour']).count()['Request id']\n",
    "\n",
    "  3rd line for `gap` = groupby['Request Hour']).count()['Request id'] - ['Status']==\"Trip Completed\"].groupby['Status']==\"Trip Completed\"]['Request Hour']).count()['Request id'])\n",
    "\n",
    "   title = \"Demand Supply Gap\"\n",
    "                                \n",
    "##### F. Plot the suitable graph from the data to show hourly distribution of request.\n",
    "\n",
    "##### G. Plot the suitable graph from the data to get the count of status for `airport to city` and `city to airport` trips using subplots.\n"
   ]
  },
  {
   "cell_type": "markdown",
   "metadata": {
    "id": "vPxRWfRXnF8Q"
   },
   "source": [
    "### A. Display the distribution plot using the column Request Hour"
   ]
  },
  {
   "cell_type": "code",
   "execution_count": 21,
   "metadata": {
    "id": "SwA-EW9nnF8Q",
    "outputId": "c64fcf1c-d7a7-4f33-c3b7-0dc6d1bb5c8d"
   },
   "outputs": [
    {
     "data": {
      "image/png": "[encoded data removed]",
      "text/plain": [
       "<Figure size 432x288 with 1 Axes>"
      ]
     },
     "metadata": {
      "needs_background": "light"
     },
     "output_type": "display_data"
    }
   ],
   "source": [
    "sns.distplot(uber_data['Request Hour'])\n",
    "plt.show()"
   ]
  },
  {
   "cell_type": "markdown",
   "metadata": {
    "id": "gFsucViXnF8Q"
   },
   "source": [
    "### B. Display the box plot using the column Request Hour and Pickup point"
   ]
  },
  {
   "cell_type": "code",
   "execution_count": 22,
   "metadata": {
    "id": "bG8ghw6PnF8Q",
    "outputId": "a24f722a-4cba-426a-9f4f-4f1315c6d594"
   },
   "outputs": [
    {
     "data": {
      "image/png": "[encoded data removed]",
      "text/plain": [
       "<Figure size 432x288 with 1 Axes>"
      ]
     },
     "metadata": {
      "needs_background": "light"
     },
     "output_type": "display_data"
    }
   ],
   "source": [
    "sns.boxplot(x='Pickup point', y='Request Hour',data=uber_data)\n",
    "plt.show()"
   ]
  },
  {
   "cell_type": "markdown",
   "metadata": {
    "id": "h3wt4bxknF8Q"
   },
   "source": [
    "### C. Display the heatmap."
   ]
  },
  {
   "cell_type": "code",
   "execution_count": 23,
   "metadata": {
    "id": "bj5IZU4AnF8Q",
    "outputId": "f3226b04-4968-445f-d16d-bbf9907382bf"
   },
   "outputs": [
    {
     "data": {
      "image/png": "[encoded data removed]",
      "text/plain": [
       "<Figure size 2160x1080 with 2 Axes>"
      ]
     },
     "metadata": {
      "needs_background": "light"
     },
     "output_type": "display_data"
    }
   ],
   "source": [
    "plt.figure(figsize=(30,15))\n",
    "sns.heatmap(uber_data.corr(),linewidths=0.1,vmax=1.0,annot=True)\n",
    "plt.show()"
   ]
  },
  {
   "cell_type": "markdown",
   "metadata": {
    "id": "bZ1T5fsunF8Q"
   },
   "source": [
    "### D.Plot suitable graph for `Status` and `Pickup point`. Write your observation."
   ]
  },
  {
   "cell_type": "code",
   "execution_count": 24,
   "metadata": {
    "id": "xO6l1iIHnF8Q",
    "outputId": "8673c25c-53b1-4f7d-9628-65d7795eb75f"
   },
   "outputs": [
    {
     "data": {
      "text/plain": [
       "<matplotlib.axes._subplots.AxesSubplot at 0x28333c490a0>"
      ]
     },
     "execution_count": 24,
     "metadata": {},
     "output_type": "execute_result"
    },
    {
     "data": {
      "image/png": "[encoded data removed]",
      "text/plain": [
       "<Figure size 432x288 with 1 Axes>"
      ]
     },
     "metadata": {
      "needs_background": "light"
     },
     "output_type": "display_data"
    }
   ],
   "source": [
    "sns.countplot(x=uber_data['Pickup point'],hue =uber_data['Status'] ,data = uber_data)"
   ]
  },
  {
   "cell_type": "markdown",
   "metadata": {
    "id": "MaHrQ5EbnF8Q"
   },
   "source": [
    "* There are more No cars available from Airport to City.\n",
    "* There are more cars Cancelled from City to Airport."
   ]
  },
  {
   "cell_type": "markdown",
   "metadata": {
    "id": "-L56du2onF8Q"
   },
   "source": [
    "### E. Plot the suitable graph from the data to check if cancellations are more towards  `airport to city` and `city to airport` trips using subplots.\n"
   ]
  },
  {
   "cell_type": "code",
   "execution_count": 25,
   "metadata": {
    "id": "8RgYn7EAnF8Q"
   },
   "outputs": [],
   "source": [
    "uber_data_city = uber_data[uber_data['Pickup point']==\"City\"]\n",
    "uber_data_airport = uber_data[uber_data['Pickup point']==\"Airport\"]"
   ]
  },
  {
   "cell_type": "code",
   "execution_count": 26,
   "metadata": {
    "id": "P7at6DoDnF8Q",
    "outputId": "b1895d6f-578f-43a3-a9fe-d2ace5e9d7dc"
   },
   "outputs": [
    {
     "data": {
      "image/png": "[encoded data removed]",
      "text/plain": [
       "<Figure size 1080x576 with 2 Axes>"
      ]
     },
     "metadata": {
      "needs_background": "light"
     },
     "output_type": "display_data"
    }
   ],
   "source": [
    "f = plt.figure(figsize=(15,8))\n",
    "plt.subplot(2,1,1)\n",
    "plt.title(\"City\")\n",
    "sns.countplot(x='Request Hour',hue='Status',data=uber_data_city)\n",
    "plt.legend(bbox_to_anchor=(1.20, 0.5), loc='right')\n",
    "plt.subplot(2,1,2)\n",
    "plt.title(\"Airport\")\n",
    "sns.countplot(x='Request Hour',hue='Status',data=uber_data_airport)\n",
    "plt.legend(bbox_to_anchor=(1.20, 0.5), loc='right')\n",
    "plt.tight_layout()"
   ]
  },
  {
   "cell_type": "code",
   "execution_count": null,
   "metadata": {},
   "outputs": [],
   "source": []
  }
 ],
 "metadata": {
  "colab": {
   "collapsed_sections": [],
   "name": "NPV-LI-CASE-STUDY-SET-B.ipynb",
   "provenance": []
  },
  "kernelspec": {
   "display_name": "Python 3 (ipykernel)",
   "language": "python",
   "name": "python3"
  },
  "language_info": {
   "codemirror_mode": {
    "name": "ipython",
    "version": 3
   },
   "file_extension": ".py",
   "mimetype": "text/x-python",
   "name": "python",
   "nbconvert_exporter": "python",
   "pygments_lexer": "ipython3",
   "version": "3.9.7"
  }
 },
 "nbformat": 4,
 "nbformat_minor": 1
}
